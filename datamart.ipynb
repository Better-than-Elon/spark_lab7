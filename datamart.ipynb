{
 "cells": [
  {
   "cell_type": "code",
   "execution_count": 1,
   "id": "61252bba-e91a-4c94-ac7b-38c23303c31b",
   "metadata": {},
   "outputs": [],
   "source": [
    "import os\n",
    "import findspark\n",
    "\n",
    "from spark_builder import SparkBuilder\n",
    "from pyspark.sql.functions import explode, split, col\n",
    "\n",
    "import yaml\n",
    "from pyspark.ml.feature import VectorAssembler\n",
    "from pyspark.ml.feature import StandardScaler\n",
    "from pyspark.ml.clustering import KMeans\n",
    "from pyspark.ml.evaluation import ClusteringEvaluator\n",
    "import matplotlib.pyplot as plt\n",
    "\n",
    "import sys\n",
    "\n",
    "os.environ['PYSPARK_PYTHON'] = sys.executable\n",
    "os.environ['PYSPARK_DRIVER_PYTHON'] = sys.executable\n",
    "\n",
    "os.environ['SPARK_HOME'] = \"C:/apps/spark-3.5.1-bin-hadoop3/\"\n",
    "os.environ['PYSPARK_DRIVER_PYTHON'] = 'jupyter'\n",
    "#os.environ['PYSPARK_DRIVER_PYTHON_OPTS'] = 'lab'\n",
    "#os.environ['PYSPARK_PYTHON'] = 'python'\n",
    "findspark.init()\n",
    "cfg = yaml.load(open('config.yaml'), Loader=yaml.FullLoader)"
   ]
  },
  {
   "cell_type": "code",
   "execution_count": 2,
   "id": "727deec8-95ee-4672-9dc1-e2ff32fd292a",
   "metadata": {},
   "outputs": [],
   "source": [
    "from pyspark.sql import SparkSession, DataFrame"
   ]
  },
  {
   "cell_type": "code",
   "execution_count": 3,
   "id": "f633eba4-818a-4ded-aff3-350c2cdfc06c",
   "metadata": {},
   "outputs": [],
   "source": [
    "with open(\".env\", \"r\") as f:\n",
    "    for line in f:\n",
    "        k, v = line.rstrip().split('=')\n",
    "        os.environ[k] = v"
   ]
  },
  {
   "cell_type": "code",
   "execution_count": 4,
   "id": "3018369e-4665-4e61-bc14-83c84e09af46",
   "metadata": {},
   "outputs": [],
   "source": [
    "url = \"jdbc:oracle:thin:@localhost:1521/FREE\"\n",
    "properties = {\n",
    "    \"user\": \"system\",\n",
    "    \"password\": os.environ[\"ORACLE_PWD\"],\n",
    "    \"driver\": \"oracle.jdbc.driver.OracleDriver\"\n",
    "}"
   ]
  },
  {
   "cell_type": "code",
   "execution_count": null,
   "id": "57a0ae34-6aee-4d8a-8944-63e74c0506b6",
   "metadata": {},
   "outputs": [],
   "source": [
    "#UPLOAD TO DB\n",
    "spark = SparkBuilder({'spark.app.name': 'Upload_db'}).getSession()\n",
    "\n",
    "cfg = yaml.load(open('config.yaml'), Loader=yaml.FullLoader)\n",
    "\n",
    "dataset = spark.read.csv(cfg['dataset']['data_path'], header=True, inferSchema=True, sep='\\t')\n",
    "# dataset = dataset.select(cfg['dataset']['filtered_cols'])\n",
    "# dataset = dataset.na.fill(value=0)\n",
    "# print('Input data')\n",
    "# dataset.printSchema()\n",
    "\n",
    "dataset.write.jdbc(url=url, table=cfg['db']['data_table'], mode=\"overwrite\", properties=properties)\n",
    "del(dataset)\n",
    "\n",
    "spark.stop()"
   ]
  },
  {
   "cell_type": "code",
   "execution_count": 6,
   "id": "c0582ed5-9481-40fd-91a1-9f82dddc0666",
   "metadata": {},
   "outputs": [],
   "source": [
    "spark = SparkBuilder({'spark.app.name': 'Kmenas'}).getSession()"
   ]
  },
  {
   "cell_type": "code",
   "execution_count": 7,
   "id": "b6f641d6-a272-4f84-b354-2354b6ea2e14",
   "metadata": {},
   "outputs": [],
   "source": [
    "proc_data = spark._jvm.DataMart.readAndProccess()"
   ]
  },
  {
   "cell_type": "code",
   "execution_count": 8,
   "id": "a93533c8-f1d4-435a-b132-aab0eec57f23",
   "metadata": {},
   "outputs": [
    {
     "data": {
      "text/plain": [
       "JavaObject id=o122"
      ]
     },
     "execution_count": 8,
     "metadata": {},
     "output_type": "execute_result"
    }
   ],
   "source": [
    "proc_data"
   ]
  },
  {
   "cell_type": "code",
   "execution_count": 9,
   "id": "01c2a23b-90d6-4356-9ba9-65247c958254",
   "metadata": {},
   "outputs": [],
   "source": [
    "final_data = DataFrame(proc_data, spark).select(\"scaledFeatures\")"
   ]
  },
  {
   "cell_type": "code",
   "execution_count": null,
   "id": "1d6c1e26-a02b-4019-9567-2338fb1063e4",
   "metadata": {},
   "outputs": [],
   "source": []
  },
  {
   "cell_type": "code",
   "execution_count": 10,
   "id": "733c0da3-a068-4521-8412-78d571520207",
   "metadata": {},
   "outputs": [],
   "source": [
    "evaluator = ClusteringEvaluator(predictionCol='prediction',\n",
    "                                featuresCol='scaledFeatures',\n",
    "                                metricName='silhouette',\n",
    "                                distanceMeasure='squaredEuclidean')\n",
    "kmeans = KMeans(featuresCol='scaledFeatures', k=12, seed=42)\n",
    "model = kmeans.fit(final_data)\n",
    "predictions = model.transform(final_data)\n",
    "score = evaluator.evaluate(predictions)"
   ]
  },
  {
   "cell_type": "code",
   "execution_count": 11,
   "id": "37da30da-2439-4488-8400-033580849ba6",
   "metadata": {},
   "outputs": [
    {
     "name": "stdout",
     "output_type": "stream",
     "text": [
      "+----------+\n",
      "|prediction|\n",
      "+----------+\n",
      "|         1|\n",
      "|         1|\n",
      "|         1|\n",
      "|         1|\n",
      "|         1|\n",
      "+----------+\n",
      "only showing top 5 rows\n",
      "\n"
     ]
    }
   ],
   "source": [
    "predictions.select(\"prediction\").show(5)"
   ]
  },
  {
   "cell_type": "code",
   "execution_count": 12,
   "id": "b8aa116c-011d-4b74-95dc-2543daf9c47d",
   "metadata": {},
   "outputs": [],
   "source": [
    "spark.stop()"
   ]
  },
  {
   "cell_type": "code",
   "execution_count": null,
   "id": "4fd610d6-cd09-4479-8401-081296d2d8ca",
   "metadata": {},
   "outputs": [],
   "source": []
  },
  {
   "cell_type": "code",
   "execution_count": null,
   "id": "6c670353-5f97-4ba1-9e53-1d58b9e22389",
   "metadata": {},
   "outputs": [],
   "source": []
  },
  {
   "cell_type": "code",
   "execution_count": null,
   "id": "b2d5f7c6-2a4e-4113-9dbe-56cdfc2a5f8a",
   "metadata": {},
   "outputs": [],
   "source": []
  },
  {
   "cell_type": "code",
   "execution_count": null,
   "id": "584bd352-3e2b-4571-ba11-644cddc7daa0",
   "metadata": {},
   "outputs": [],
   "source": []
  },
  {
   "cell_type": "code",
   "execution_count": null,
   "id": "8cebcff7-c33c-472f-b757-17f5eb9742b0",
   "metadata": {},
   "outputs": [],
   "source": [
    "#UPLOAD TO DB\n",
    "spark = SparkBuilder({'spark.app.name': 'Upload_db'}).getSession()\n",
    "\n",
    "cfg = yaml.load(open('config.yaml'), Loader=yaml.FullLoader)\n",
    "\n",
    "dataset = spark.read.csv(cfg['dataset']['data_path'], header=True, inferSchema=True, sep='\\t')\n",
    "dataset = dataset.select(cfg['dataset']['filtered_cols'])\n",
    "dataset = dataset.na.fill(value=0)\n",
    "print('Input data')\n",
    "dataset.printSchema()\n",
    "\n",
    "dataset.write.jdbc(url=url, table=cfg['db']['data_table'], mode=\"overwrite\", properties=properties)\n",
    "del(dataset)\n",
    "\n",
    "spark.stop()"
   ]
  },
  {
   "cell_type": "code",
   "execution_count": null,
   "id": "c3c72eed-0f27-4a7e-b9c9-0f69e60e8415",
   "metadata": {},
   "outputs": [],
   "source": [
    "from pyspark import SQLContext\n",
    "from pyspark.sql import SparkSession, DataFrame\n",
    "\n",
    "\n",
    "class DataMart:\n",
    "    def __init__(self, spark: SparkSession):\n",
    "        self.spark_context = spark.sparkContext\n",
    "        self.sql_context = SQLContext(self.spark_context, spark)\n",
    "        self.jwm_datamart = self.spark_context._jvm.DataMart\n",
    "\n",
    "    def read_dataset(self) -> DataFrame:\n",
    "        jvm_data = self.jwm_datamart.readPreprocessedOpenFoodFactsDataset()\n",
    "        return DataFrame(jvm_data, self.sql_context)\n",
    "\n",
    "    def write_predictions(self, df: DataFrame):\n",
    "        self.jwm_datamart.writePredictions(df._jdf)"
   ]
  }
 ],
 "metadata": {
  "kernelspec": {
   "display_name": "spark_base",
   "language": "python",
   "name": "spark_base"
  },
  "language_info": {
   "codemirror_mode": {
    "name": "ipython",
    "version": 3
   },
   "file_extension": ".py",
   "mimetype": "text/x-python",
   "name": "python",
   "nbconvert_exporter": "python",
   "pygments_lexer": "ipython3",
   "version": "3.9.7"
  }
 },
 "nbformat": 4,
 "nbformat_minor": 5
}
